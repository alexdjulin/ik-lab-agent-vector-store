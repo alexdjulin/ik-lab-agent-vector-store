{
 "cells": [
  {
   "cell_type": "markdown",
   "id": "efad6479-7fb1-40c4-8610-8963f8de307f",
   "metadata": {},
   "source": [
    "# Lab | Agent & Vector store\n",
    "\n",
    "**Change the state union dataset and replicate this lab by updating the prompts accordingly.**\n",
    "\n",
    "One such dataset is the [sonnets.txt](https://github.com/martin-gorner/tensorflow-rnn-shakespeare/blob/master/shakespeare/sonnets.txt) dataset or any other data of your choice from the same git."
   ]
  },
  {
   "cell_type": "markdown",
   "id": "68b24990",
   "metadata": {},
   "source": [
    "# Combine agents and vector stores\n",
    "\n",
    "This notebook covers how to combine agents and vector stores. The use case for this is that you've ingested your data into a vector store and want to interact with it in an agentic manner.\n",
    "\n",
    "The recommended method for doing so is to create a `RetrievalQA` and then use that as a tool in the overall agent. Let's take a look at doing this below. You can do this with multiple different vector DBs, and use the agent as a way to route between them. There are two different ways of doing this - you can either let the agent use the vector stores as normal tools, or you can set `return_direct=True` to really just use the agent as a router."
   ]
  },
  {
   "cell_type": "markdown",
   "id": "9b22020a",
   "metadata": {},
   "source": [
    "## Create the vector store"
   ]
  },
  {
   "cell_type": "code",
   "execution_count": 44,
   "id": "12df91e0-7322-43c2-96cd-0159d017a1e1",
   "metadata": {
    "tags": []
   },
   "outputs": [],
   "source": [
    "#!pip install chromadb"
   ]
  },
  {
   "cell_type": "code",
   "execution_count": 45,
   "id": "2868cff1-a3ef-426f-b8d7-7fe89047a5b7",
   "metadata": {
    "tags": []
   },
   "outputs": [],
   "source": [
    "from langchain.chains import RetrievalQA\n",
    "from langchain_community.vectorstores import Chroma\n",
    "from langchain_openai import OpenAI, OpenAIEmbeddings\n",
    "from langchain_text_splitters import CharacterTextSplitter\n",
    "from langchain_community.document_loaders import TextLoader"
   ]
  },
  {
   "cell_type": "code",
   "execution_count": 46,
   "id": "aeff3a2d-b0cc-429f-a34c-4381d71f1a5f",
   "metadata": {
    "tags": []
   },
   "outputs": [],
   "source": [
    "import os\n",
    "from dotenv import load_dotenv, find_dotenv\n",
    "_ = load_dotenv(find_dotenv())\n",
    "\n",
    "OPENAI_API_KEY  = os.getenv('OPENAI_API_KEY')\n",
    "HUGGINGFACEHUB_API_TOKEN = os.getenv('HUGGINGFACEHUB_API_TOKEN')"
   ]
  },
  {
   "cell_type": "code",
   "execution_count": 47,
   "id": "14331eec-fd46-42e0-b6e7-adaf21824ef7",
   "metadata": {
    "tags": []
   },
   "outputs": [],
   "source": [
    "llm = OpenAI(temperature=0)"
   ]
  },
  {
   "cell_type": "code",
   "execution_count": 48,
   "id": "0b7b772b",
   "metadata": {
    "tags": []
   },
   "outputs": [],
   "source": [
    "from pathlib import Path\n",
    "\n",
    "relevant_parts = []\n",
    "for p in Path(\".\").absolute().parts:\n",
    "    relevant_parts.append(p)\n",
    "    if relevant_parts[-3:] == [\"langchain\", \"docs\", \"modules\"]:\n",
    "        break\n",
    "doc_path = str(Path(*relevant_parts) / \"state_of_the_union.txt\")"
   ]
  },
  {
   "cell_type": "code",
   "execution_count": 49,
   "id": "f2675861",
   "metadata": {
    "tags": []
   },
   "outputs": [],
   "source": [
    "loader = TextLoader(doc_path)\n",
    "documents = loader.load()\n",
    "text_splitter = CharacterTextSplitter(chunk_size=1000, chunk_overlap=0)\n",
    "texts = text_splitter.split_documents(documents)\n",
    "\n",
    "embeddings = OpenAIEmbeddings()\n",
    "docsearch = Chroma.from_documents(texts, embeddings, collection_name=\"state-of-union\")"
   ]
  },
  {
   "cell_type": "code",
   "execution_count": 50,
   "id": "bc5403d4",
   "metadata": {
    "tags": []
   },
   "outputs": [],
   "source": [
    "state_of_union = RetrievalQA.from_chain_type(\n",
    "    llm=llm, chain_type=\"stuff\", retriever=docsearch.as_retriever()\n",
    ")"
   ]
  },
  {
   "cell_type": "code",
   "execution_count": 51,
   "id": "1431cded",
   "metadata": {
    "tags": []
   },
   "outputs": [
    {
     "name": "stderr",
     "output_type": "stream",
     "text": [
      "USER_AGENT environment variable not set, consider setting it to identify your requests.\n"
     ]
    }
   ],
   "source": [
    "from langchain_community.document_loaders import WebBaseLoader"
   ]
  },
  {
   "cell_type": "code",
   "execution_count": 52,
   "id": "915d3ff3",
   "metadata": {
    "tags": []
   },
   "outputs": [],
   "source": [
    "loader = WebBaseLoader(\"https://beta.ruff.rs/docs/faq/\")"
   ]
  },
  {
   "cell_type": "code",
   "execution_count": 66,
   "id": "96a2edf8",
   "metadata": {
    "tags": []
   },
   "outputs": [
    {
     "name": "stderr",
     "output_type": "stream",
     "text": [
      "Created a chunk of size 2130, which is longer than the specified 1000\n",
      "Created a chunk of size 3187, which is longer than the specified 1000\n",
      "Created a chunk of size 1256, which is longer than the specified 1000\n",
      "Created a chunk of size 1051, which is longer than the specified 1000\n"
     ]
    }
   ],
   "source": [
    "docs = loader.load()  # loading page contents into documents\n",
    "ruff_texts = text_splitter.split_documents(docs)  # Split the documents into smaller chunks\n",
    "ruff_db = Chroma.from_documents(ruff_texts, embeddings, collection_name=\"ruff\")  # Create a vector store\n",
    "ruff = RetrievalQA.from_chain_type(\n",
    "    llm=llm,  # OpenAI language model\n",
    "    chain_type=\"stuff\",  # The type of chain to use, stuff means the text is stored as is, without summarizing or any other processing\n",
    "    retriever=ruff_db.as_retriever()  # The retriever to use\n",
    ")"
   ]
  },
  {
   "cell_type": "code",
   "execution_count": 57,
   "id": "e93aebc2",
   "metadata": {},
   "outputs": [
    {
     "data": {
      "text/plain": [
       "[Document(metadata={'source': 'https://beta.ruff.rs/docs/faq/', 'title': 'FAQ | Ruff', 'description': 'An extremely fast Python linter and code formatter, written in Rust.', 'language': 'en'}, page_content='FAQ | Ruff\\n\\n          Skip to content\\n        \\n\\n            Ruff\\n          \\n\\n            \\n              FAQ\\n            \\n          \\n\\n\\n            Initializing search\\n          \\n\\n\\n    ruff\\n  \\n\\n    Ruff\\n  \\n\\n\\n    ruff\\n  \\n\\n\\n    \\n  \\n    Overview\\n  \\n\\n    \\n  \\n\\n    \\n  \\n    Tutorial\\n  \\n\\n    \\n  \\n\\n    \\n  \\n    Installing Ruff\\n  \\n\\n    \\n  \\n\\n    \\n  \\n    The Ruff Linter\\n  \\n\\n    \\n  \\n\\n    \\n  \\n    The Ruff Formatter\\n  \\n\\n    \\n  \\n\\n\\n    \\n  \\n    Editors\\n  \\n\\n    \\n  \\n\\n            \\n  \\n    Editors\\n  \\n\\n          \\n\\n\\n    \\n  \\n    Editor Integration\\n  \\n\\n    \\n  \\n\\n    \\n  \\n    Setup\\n  \\n\\n    \\n  \\n\\n    \\n  \\n    Features\\n  \\n\\n    \\n  \\n\\n    \\n  \\n    Settings\\n  \\n\\n    \\n  \\n\\n    \\n  \\n    Migrating from ruff-lsp\\n  \\n\\n    \\n  \\n\\n\\n    \\n  \\n    Configuring Ruff\\n  \\n\\n    \\n  \\n\\n    \\n  \\n    Preview\\n  \\n\\n    \\n  \\n\\n    \\n  \\n    Rules\\n  \\n\\n    \\n  \\n\\n    \\n  \\n    Settings\\n  \\n\\n    \\n  \\n\\n    \\n  \\n    Versioning\\n  \\n\\n    \\n  \\n\\n    \\n  \\n    Integrations\\n  \\n\\n    \\n  \\n\\n\\n    \\n  \\n    FAQ\\n  \\n\\n    \\n  \\n\\n\\n    \\n  \\n    FAQ\\n  \\n\\n    \\n  \\n\\n\\n      Table of contents'),\n",
       " Document(metadata={'source': 'https://beta.ruff.rs/docs/faq/', 'title': 'FAQ | Ruff', 'description': 'An extremely fast Python linter and code formatter, written in Rust.', 'language': 'en'}, page_content=\"Is the Ruff linter compatible with Black?\\n      \\n    \\n\\n      \\n        How does Ruff's formatter compare to Black?\\n      \\n    \\n\\n      \\n        How does Ruff's linter compare to Flake8?\\n      \\n    \\n\\n      \\n        How does Ruff's linter compare to Pylint?\\n      \\n    \\n\\n      \\n        How does Ruff compare to Mypy, or Pyright, or Pyre?\\n      \\n    \\n\\n      \\n        Which tools does Ruff replace?\\n      \\n    \\n\\n      \\n        Do I have to use Ruff's linter and formatter together?\\n      \\n    \\n\\n      \\n        What versions of Python does Ruff support?\\n      \\n    \\n\\n      \\n        Do I need to install Rust to use Ruff?\\n      \\n    \\n\\n      \\n        Can I write my own linter plugins for Ruff?\\n      \\n    \\n\\n      \\n        How does Ruff's import sorting compare to isort?\\n      \\n    \\n\\n      \\n        How does Ruff determine which of my imports are first-party, third-party, etc.?\\n      \\n    \\n\\n      \\n        Does Ruff support Jupyter Notebooks?\"),\n",
       " Document(metadata={'source': 'https://beta.ruff.rs/docs/faq/', 'title': 'FAQ | Ruff', 'description': 'An extremely fast Python linter and code formatter, written in Rust.', 'language': 'en'}, page_content='Does Ruff support NumPy- or Google-style docstrings?\\n      \\n    \\n\\n      \\n        What is \"preview\"?\\n      \\n    \\n\\n      \\n        How can I tell what settings Ruff is using to check my code?\\n      \\n    \\n\\n      \\n        I want to use Ruff, but I don\\'t want to use pyproject.toml. What are my options?\\n      \\n    \\n\\n      \\n        How can I change Ruff\\'s default configuration?\\n      \\n    \\n\\n      \\n        Ruff tried to fix something — but it broke my code. What\\'s going on?\\n      \\n    \\n\\n      \\n        How can I disable/force Ruff\\'s color output?\\n      \\n    \\n\\n\\n    \\n  \\n    Contributing'),\n",
       " Document(metadata={'source': 'https://beta.ruff.rs/docs/faq/', 'title': 'FAQ | Ruff', 'description': 'An extremely fast Python linter and code formatter, written in Rust.', 'language': 'en'}, page_content=\"FAQ\\nIs the Ruff linter compatible with Black?\\nYes. The Ruff linter is compatible with Black out-of-the-box, as\\nlong as the line-length setting is consistent between the two.\\nRuff is designed to be used alongside a formatter (like Ruff's own formatter, or Black) and, as\\nsuch, will defer implementing stylistic rules that are obviated by automated formatting.\\nNote that Ruff's linter and Black treat line-length enforcement a little differently. Black, like\\nRuff's formatter, makes a best-effort attempt to adhere to the\\nline-length, but avoids automatic line-wrapping in some cases (e.g.,\\nwithin comments). Ruff, on the other hand, will flag line-too-long\\n(E501) for any line that exceeds the line-length setting. As such, if\\nline-too-long (E501) is enabled, Ruff can still trigger line-length\\nviolations even when Black or ruff format is enabled.\\nHow does Ruff's formatter compare to Black?\\nThe Ruff formatter is designed to be a drop-in replacement for Black.\\nSpecifically, the formatter is intended to emit near-identical output when run over Black-formatted\\ncode. When run over extensive Black-formatted projects like Django and Zulip, > 99.9% of lines\\nare formatted identically. When migrating an existing project from Black to Ruff, you should expect\\nto see a few differences on the margins, but the vast majority of your code should be unchanged.\\nWhen run over non-Black-formatted code, the formatter makes some different decisions than Black,\\nand so more deviations should be expected, especially around the treatment of end-of-line comments.\\nSee Black compatibility for more.\\nHow does Ruff's linter compare to Flake8?\\nRuff can be used as a drop-in replacement for Flake8 when used (1) without or with a small number of\\nplugins, (2) alongside Black, and (3) on Python 3 code.\\nUnder those conditions, Ruff implements every rule in Flake8. In practice, that means Ruff\\nimplements all of the F rules (which originate from Pyflakes), along with a subset of the E and\\nW rules (which originate from pycodestyle).\\nRuff also re-implements some of the most popular Flake8 plugins and related code quality tools\\nnatively, including:\"),\n",
       " Document(metadata={'source': 'https://beta.ruff.rs/docs/faq/', 'title': 'FAQ | Ruff', 'description': 'An extremely fast Python linter and code formatter, written in Rust.', 'language': 'en'}, page_content='autoflake\\neradicate\\nflake8-2020\\nflake8-annotations\\nflake8-async\\nflake8-bandit (#1646)\\nflake8-blind-except\\nflake8-boolean-trap\\nflake8-bugbear\\nflake8-builtins\\nflake8-commas\\nflake8-comprehensions\\nflake8-copyright\\nflake8-datetimez\\nflake8-debugger\\nflake8-django\\nflake8-docstrings\\nflake8-eradicate\\nflake8-errmsg\\nflake8-executable\\nflake8-gettext\\nflake8-implicit-str-concat\\nflake8-import-conventions\\nflake8-logging\\nflake8-logging-format\\nflake8-no-pep420\\nflake8-pie\\nflake8-print\\nflake8-pyi\\nflake8-pytest-style\\nflake8-quotes\\nflake8-raise\\nflake8-return\\nflake8-self\\nflake8-simplify\\nflake8-slots\\nflake8-super\\nflake8-tidy-imports\\nflake8-todos\\nflake8-type-checking\\nflake8-use-pathlib\\nflynt (#2102)\\nisort\\nmccabe\\npandas-vet\\npep8-naming\\nperflint (#4789)\\npydocstyle\\npygrep-hooks\\npyupgrade\\ntryceratops\\nyesqa'),\n",
       " Document(metadata={'source': 'https://beta.ruff.rs/docs/faq/', 'title': 'FAQ | Ruff', 'description': 'An extremely fast Python linter and code formatter, written in Rust.', 'language': 'en'}, page_content='Note that, in some cases, Ruff uses different rule codes and prefixes than would be found in the\\noriginating Flake8 plugins. For example, Ruff uses TID252 to represent the I252 rule from\\nflake8-tidy-imports. This helps minimize conflicts across plugins and allows any individual plugin\\nto be toggled on or off with a single (e.g.) --select TID, as opposed to --select I2 (to avoid\\nconflicts with the isort rules, like I001).\\nBeyond the rule set, Ruff\\'s primary limitation vis-à-vis Flake8 is that it does not support custom\\nlint rules. (Instead, popular Flake8 plugins are re-implemented in Rust as part of Ruff itself.)\\nOne minor difference is that Ruff doesn\\'t include all the \\'opinionated\\' rules from flake8-bugbear.\\nHow does Ruff\\'s linter compare to Pylint?\\nAt time of writing, Pylint implements ~409 total rules, while Ruff implements over 800, of which at\\nleast 209 overlap with the Pylint rule set (see: #970).\\nPylint implements many rules that Ruff does not, and vice versa. For example, Pylint does more type\\ninference than Ruff (e.g., Pylint can validate the number of arguments in a function call). As such,\\nRuff is not a \"pure\" drop-in replacement for Pylint (and vice versa), as they enforce different sets\\nof rules.\\nDespite these differences, many users have successfully switched from Pylint to Ruff, especially\\nthose using Ruff alongside a type checker,\\nwhich can cover some of the functionality that Pylint provides.\\nLike Flake8, Pylint supports plugins (called \"checkers\"), while Ruff implements all rules natively\\nand does not support custom or third-party rules. Unlike Pylint, Ruff is capable of automatically\\nfixing its own lint violations.\\nIn some cases, Ruff\\'s rules may yield slightly different results than their Pylint counterparts. For\\nexample, Ruff\\'s too-many-branches does not count try blocks as\\ntheir own branches, unlike Pylint\\'s R0912. Ruff\\'s PL rule group also includes a small number of\\nrules from Pylint extensions (like magic-value-comparison),\\nwhich need to be explicitly activated when using Pylint. By enabling Ruff\\'s PL group, you may\\nsee violations for rules that weren\\'t previously enabled through your Pylint configuration.\\nPylint parity is being tracked in #970.\\nHow does Ruff compare to Mypy, or Pyright, or Pyre?\\nRuff is a linter, not a type checker. It can detect some of the same problems that a type checker\\ncan, but a type checker will catch certain errors that Ruff would miss. The opposite is also true:\\nRuff will catch certain errors that a type checker would typically ignore.\\nFor example, unlike a type checker, Ruff will notify you if an import is unused, by looking for\\nreferences to that import in the source code; on the other hand, a type checker could flag that you\\npassed an integer argument to a function that expects a string, which Ruff would miss. The\\ntools are complementary.\\nIt\\'s recommended that you use Ruff in conjunction with a type checker, like Mypy, Pyright, or Pyre,\\nwith Ruff providing faster feedback on lint violations and the type checker providing more detailed\\nfeedback on type errors.\\nWhich tools does Ruff replace?\\nToday, Ruff can be used to replace Flake8 when used with any of the following plugins:'),\n",
       " Document(metadata={'source': 'https://beta.ruff.rs/docs/faq/', 'title': 'FAQ | Ruff', 'description': 'An extremely fast Python linter and code formatter, written in Rust.', 'language': 'en'}, page_content='flake8-2020\\nflake8-annotations\\nflake8-async\\nflake8-bandit (#1646)\\nflake8-blind-except\\nflake8-boolean-trap\\nflake8-bugbear\\nflake8-builtins\\nflake8-commas\\nflake8-comprehensions\\nflake8-copyright\\nflake8-datetimez\\nflake8-debugger\\nflake8-django\\nflake8-docstrings\\nflake8-eradicate\\nflake8-errmsg\\nflake8-executable\\nflake8-gettext\\nflake8-implicit-str-concat\\nflake8-import-conventions\\nflake8-logging\\nflake8-logging-format\\nflake8-no-pep420\\nflake8-pie\\nflake8-print\\nflake8-pytest-style\\nflake8-quotes\\nflake8-raise\\nflake8-return\\nflake8-self\\nflake8-simplify\\nflake8-slots\\nflake8-super\\nflake8-tidy-imports\\nflake8-todos\\nflake8-type-checking\\nflake8-use-pathlib\\nflynt (#2102)\\nmccabe\\npandas-vet\\npep8-naming\\nperflint (#4789)\\npydocstyle\\ntryceratops'),\n",
       " Document(metadata={'source': 'https://beta.ruff.rs/docs/faq/', 'title': 'FAQ | Ruff', 'description': 'An extremely fast Python linter and code formatter, written in Rust.', 'language': 'en'}, page_content=\"Ruff can also replace Black, isort,\\nyesqa, eradicate, and\\nmost of the rules implemented in pyupgrade.\\nIf you're looking to use Ruff, but rely on an unsupported Flake8 plugin, feel free to file an\\nissue.\\nDo I have to use Ruff's linter and formatter together?\\nNope! Ruff's linter and formatter can be used independently of one another -- you can use\\nRuff as a formatter, but not a linter, or vice versa.\\nWhat versions of Python does Ruff support?\\nRuff can lint code for any Python version from 3.7 onwards, including Python 3.13.\\nRuff does not support Python 2. Ruff may run on pre-Python 3.7 code, although such versions\\nare not officially supported (e.g., Ruff does not respect type comments).\\nRuff is installable under any Python version from 3.7 onwards.\\nDo I need to install Rust to use Ruff?\\nNope! Ruff is available as ruff on PyPI:\\n$ pip install ruff\"),\n",
       " Document(metadata={'source': 'https://beta.ruff.rs/docs/faq/', 'title': 'FAQ | Ruff', 'description': 'An extremely fast Python linter and code formatter, written in Rust.', 'language': 'en'}, page_content='Ruff ships with wheels for all major platforms, which enables pip to install Ruff without relying\\non Rust at all.\\nCan I write my own linter plugins for Ruff?\\nRuff does not yet support third-party plugins, though a plugin system is within-scope for the\\nproject. See #283 for more.\\nHow does Ruff\\'s import sorting compare to isort?\\nRuff\\'s import sorting is intended to be near-equivalent to isort\\'s when using isort\\'s\\nprofile = \"black\".\\nThere are a few known differences in how Ruff and isort treat aliased imports, and in how Ruff and\\nisort treat inline comments in some cases (see: #1381,\\n#2104).\\nFor example, Ruff tends to group non-aliased imports from the same module:\\nfrom numpy import cos, int8, int16, int32, int64, tan, uint8, uint16, uint32, uint64\\nfrom numpy import sin as np_sin'),\n",
       " Document(metadata={'source': 'https://beta.ruff.rs/docs/faq/', 'title': 'FAQ | Ruff', 'description': 'An extremely fast Python linter and code formatter, written in Rust.', 'language': 'en'}, page_content=\"Whereas isort splits them into separate import statements at each aliased boundary:\\nfrom numpy import cos, int8, int16, int32, int64\\nfrom numpy import sin as np_sin\\nfrom numpy import tan, uint8, uint16, uint32, uint64\\n\\nRuff also correctly classifies some modules as standard-library that aren't recognized\\nby isort, like _string and idlelib.\\nLike isort, Ruff's import sorting is compatible with Black.\\nHow does Ruff determine which of my imports are first-party, third-party, etc.?\\nRuff accepts a src option that in your pyproject.toml, ruff.toml, or .ruff.toml file,\\nspecifies the directories that Ruff should consider when determining whether an import is\\nfirst-party.\\nFor example, if you have a project with the following structure:\\nmy_project\\n├── pyproject.toml\\n└── src\\n    └── foo\\n        ├── __init__.py\\n        └── bar\\n            ├── __init__.py\\n            └── baz.py\"),\n",
       " Document(metadata={'source': 'https://beta.ruff.rs/docs/faq/', 'title': 'FAQ | Ruff', 'description': 'An extremely fast Python linter and code formatter, written in Rust.', 'language': 'en'}, page_content='When Ruff sees an import like import foo, it will then iterate over the src directories,\\nlooking for a corresponding Python module (in reality, a directory named foo or a file named\\nfoo.py).\\nIf the src field is omitted, Ruff will default to using the \"project root\", along with a \"src\"\\nsubdirectory, as the first-party sources, to support both flat and nested project layouts.\\nThe \"project root\" is typically the directory containing your pyproject.toml, ruff.toml, or\\n.ruff.toml file, unless a configuration file is provided on the command-line via the --config\\noption, in which case, the current working directory is used as the project root.\\nIn this case, Ruff would check the \"src\" directory by default, but we can configure it as an\\nexplicit, exclusive first-party source like so:\\npyproject.tomlruff.toml'),\n",
       " Document(metadata={'source': 'https://beta.ruff.rs/docs/faq/', 'title': 'FAQ | Ruff', 'description': 'An extremely fast Python linter and code formatter, written in Rust.', 'language': 'en'}, page_content='[tool.ruff]\\n# Ruff supports a top-level `src` option in lieu of isort\\'s `src_paths` setting.\\n# All paths are relative to the project root, which is the directory containing the pyproject.toml.\\nsrc = [\"src\"]\\n\\n# Ruff supports a top-level `src` option in lieu of isort\\'s `src_paths` setting.\\n# All paths are relative to the project root, which is the directory containing the pyproject.toml.\\nsrc = [\"src\"]\\n\\n\\nIf your pyproject.toml, ruff.toml, or .ruff.toml extends another configuration file, Ruff\\nwill still use the directory containing your pyproject.toml, ruff.toml, or .ruff.toml file as\\nthe project root (as opposed to the directory of the file pointed to via the extends option).\\nFor example, if you add a configuration file to the tests directory in the above example, you\\'ll\\nwant to explicitly set the src option in the extended configuration file:\\npyproject.tomlruff.toml\\n\\n\\n[tool.ruff]\\nextend = \"../pyproject.toml\"\\nsrc = [\"../src\"]\\n\\nextend = \"../pyproject.toml\"\\nsrc = [\"../src\"]'),\n",
       " Document(metadata={'source': 'https://beta.ruff.rs/docs/faq/', 'title': 'FAQ | Ruff', 'description': 'An extremely fast Python linter and code formatter, written in Rust.', 'language': 'en'}, page_content='Beyond this src-based detection, Ruff will also attempt to determine the current Python package\\nfor a given Python file, and mark imports from within the same package as first-party. For example,\\nabove, baz.py would be identified as part of the Python package beginning at\\n./my_project/src/foo, and so any imports in baz.py that begin with foo (like import foo.bar)\\nwould be considered first-party based on this same-package heuristic.\\nFor a detailed explanation of src resolution, see the contributing guide.\\nRuff can also be configured to treat certain modules as (e.g.) always first-party, regardless of\\ntheir location on the filesystem. For example, you can set known-first-party\\nlike so:\\npyproject.tomlruff.toml\\n\\n\\n[tool.ruff]\\nsrc = [\"src\", \"tests\"]\\n\\n[tool.ruff.lint]\\nselect = [\\n    # Pyflakes\\n    \"F\",\\n    # Pycodestyle\\n    \"E\",\\n    \"W\",\\n    # isort\\n    \"I001\"\\n]\\n\\n[tool.ruff.lint.isort]\\nknown-first-party = [\"my_module1\", \"my_module2\"]\\n\\nsrc = [\"src\", \"tests\"]'),\n",
       " Document(metadata={'source': 'https://beta.ruff.rs/docs/faq/', 'title': 'FAQ | Ruff', 'description': 'An extremely fast Python linter and code formatter, written in Rust.', 'language': 'en'}, page_content='[lint]\\nselect = [\\n    # Pyflakes\\n    \"F\",\\n    # Pycodestyle\\n    \"E\",\\n    \"W\",\\n    # isort\\n    \"I001\"\\n]\\n\\n[lint.isort]\\nknown-first-party = [\"my_module1\", \"my_module2\"]\\n\\n\\nRuff does not yet support all of isort\\'s configuration options, though it does support many of\\nthem. You can find the supported settings in the API reference.\\nDoes Ruff support Jupyter Notebooks?\\nRuff has built-in support for linting and formatting Jupyter Notebooks. Refer to the\\nJupyter Notebook section for more details.\\nRuff also integrates with nbQA, a tool for running linters and\\ncode formatters over Jupyter Notebooks.\\nAfter installing ruff and nbqa, you can run Ruff over a notebook like so:\\n$ nbqa ruff Untitled.ipynb\\nUntitled.ipynb:cell_1:2:5: F841 Local variable `x` is assigned to but never used\\nUntitled.ipynb:cell_2:1:1: E402 Module level import not at top of file\\nUntitled.ipynb:cell_2:1:8: F401 `os` imported but unused\\nFound 3 errors.\\n1 potentially fixable with the --fix option.'),\n",
       " Document(metadata={'source': 'https://beta.ruff.rs/docs/faq/', 'title': 'FAQ | Ruff', 'description': 'An extremely fast Python linter and code formatter, written in Rust.', 'language': 'en'}, page_content='Does Ruff support NumPy- or Google-style docstrings?\\nYes! To enforce a docstring convention, add a convention\\nsetting following to your configuration file:\\npyproject.tomlruff.toml\\n\\n\\n[tool.ruff.lint.pydocstyle]\\nconvention = \"google\"  # Accepts: \"google\", \"numpy\", or \"pep257\".\\n\\n[lint.pydocstyle]\\nconvention = \"google\"  # Accepts: \"google\", \"numpy\", or \"pep257\".\\n\\n\\nFor example, if you\\'re coming from flake8-docstrings, and your originating configuration uses\\n--docstring-convention=numpy, you\\'d instead set convention = \"numpy\" in your pyproject.toml,\\nas above.\\nAlongside convention, you\\'ll want to\\nexplicitly enable the D rule code prefix, since the D rules are not enabled by default:\\npyproject.tomlruff.toml\\n\\n\\n[tool.ruff.lint]\\nselect = [\"D\"]\\n\\n[tool.ruff.lint.pydocstyle]\\nconvention = \"google\"\\n\\n[lint]\\nselect = [\"D\"]\\n\\n[lint.pydocstyle]\\nconvention = \"google\"'),\n",
       " Document(metadata={'source': 'https://beta.ruff.rs/docs/faq/', 'title': 'FAQ | Ruff', 'description': 'An extremely fast Python linter and code formatter, written in Rust.', 'language': 'en'}, page_content='Enabling a convention will disable any rules that are not\\nincluded in the specified convention. As such, the intended workflow is to enable a convention and\\nthen selectively enable or disable any additional rules on top of it:\\npyproject.tomlruff.toml\\n\\n\\n[tool.ruff.lint]\\nselect = [\\n    \"D\",\\n    # Augment the convention by requiring an imperative mood for all docstrings.\\n    \"D401\",\\n]\\n\\nignore = [\\n    # Relax the convention by _not_ requiring documentation for every function parameter.\\n    \"D417\",\\n]\\n\\n[tool.ruff.lint.pydocstyle]\\nconvention = \"google\"\\n\\n[lint]\\nselect = [\\n    \"D\",\\n    # Augment the convention by requiring an imperative mood for all docstrings.\\n    \"D401\",\\n]\\n\\nignore = [\\n    # Relax the convention by _not_ requiring documentation for every function parameter.\\n    \"D417\",\\n]\\n\\n[lint.pydocstyle]\\nconvention = \"google\"'),\n",
       " Document(metadata={'source': 'https://beta.ruff.rs/docs/faq/', 'title': 'FAQ | Ruff', 'description': 'An extremely fast Python linter and code formatter, written in Rust.', 'language': 'en'}, page_content='The PEP 257 convention includes all D errors apart from:\\nD203,\\nD212,\\nD213,\\nD214,\\nD215,\\nD404,\\nD405,\\nD406,\\nD407,\\nD408,\\nD409,\\nD410,\\nD411,\\nD413,\\nD415,\\nD416, and\\nD417.\\nThe NumPy convention includes all D errors apart from:\\nD107,\\nD203,\\nD212,\\nD213,\\nD402,\\nD413,\\nD415,\\nD416, and\\nD417.\\nThe Google convention includes all D errors apart from:\\nD203,\\nD204,\\nD213,\\nD215,\\nD400,\\nD401,\\nD404,\\nD406,\\nD407,\\nD408,\\nD409, and\\nD413.\\nBy default, no convention is set, and so the enabled rules\\nare determined by the select setting alone.\\nWhat is \"preview\"?\\nPreview enables a collection of newer rules and fixes that are considered experimental or unstable.\\nSee the preview documentation for more details; or, to see which rules are currently\\nin preview, visit the rules reference.\\nHow can I tell what settings Ruff is using to check my code?\\nRun ruff check /path/to/code.py --show-settings to view the resolved settings for a given file.\\nI want to use Ruff, but I don\\'t want to use pyproject.toml. What are my options?\\nIn lieu of a pyproject.toml file, you can use a ruff.toml file for configuration. The two\\nfiles are functionally equivalent and have an identical schema, with the exception that a ruff.toml\\nfile can omit the [tool.ruff] section header. For example:\\npyproject.toml'),\n",
       " Document(metadata={'source': 'https://beta.ruff.rs/docs/faq/', 'title': 'FAQ | Ruff', 'description': 'An extremely fast Python linter and code formatter, written in Rust.', 'language': 'en'}, page_content='[tool.ruff]\\nline-length = 88\\n\\n[tool.ruff.lint.pydocstyle]\\nconvention = \"google\"\\n\\nruff.toml\\n\\n\\nline-length = 88\\n\\n[lint.pydocstyle]\\nconvention = \"google\"\\n\\nRuff doesn\\'t currently support INI files, like setup.cfg or tox.ini.\\nHow can I change Ruff\\'s default configuration?\\nWhen no configuration file is found, Ruff will look for a user-specific ruff.toml file as a\\nlast resort. This behavior is similar to Flake8\\'s ~/.config/flake8.\\nOn macOS and Linux, Ruff expects that file to be located at ~/.config/ruff/ruff.toml,\\nand respects the XDG_CONFIG_HOME specification.\\nOn Windows, Ruff expects that file to be located at ~\\\\AppData\\\\Roaming\\\\ruff\\\\ruff.toml.\\n\\nNote\\nPrior to v0.5.0, Ruff would read user-specific configuration from\\n~/Library/Application Support/ruff/ruff.toml on macOS. While Ruff will still respect\\nsuch configuration files, the use of ~/Library/Application Support is considered deprecated.'),\n",
       " Document(metadata={'source': 'https://beta.ruff.rs/docs/faq/', 'title': 'FAQ | Ruff', 'description': 'An extremely fast Python linter and code formatter, written in Rust.', 'language': 'en'}, page_content='For more, see the etcetera crate.\\nRuff tried to fix something — but it broke my code. What\\'s going on?\\nRuff labels fixes as \"safe\" and \"unsafe\". By default, Ruff will fix all violations for which safe\\nfixes are available, while unsafe fixes can be enabled via the unsafe-fixes\\nsetting, or passing the --unsafe-fixes flag to ruff check. For\\nmore, see the fix documentation.\\nEven still, given the dynamic nature of Python, it\\'s difficult to have complete certainty when\\nmaking changes to code, even for seemingly trivial fixes. If a \"safe\" fix breaks your code, please\\nfile an Issue.\\nHow can I disable/force Ruff\\'s color output?\\nRuff\\'s color output is powered by the colored crate, which\\nattempts to automatically detect whether the output stream supports color. However, you can force\\ncolors off by setting the NO_COLOR environment variable to any value (e.g., NO_COLOR=1), or\\nforce colors on by setting FORCE_COLOR to any non-empty value (e.g. FORCE_COLOR=1).\\ncolored also supports the CLICOLOR and CLICOLOR_FORCE\\nenvironment variables (see the spec).'),\n",
       " Document(metadata={'source': 'https://beta.ruff.rs/docs/faq/', 'title': 'FAQ | Ruff', 'description': 'An extremely fast Python linter and code formatter, written in Rust.', 'language': 'en'}, page_content='Back to top\\n          \\n\\n  \\n  \\n    Made with\\n    \\n      Material for MkDocs Insiders')]"
      ]
     },
     "execution_count": 57,
     "metadata": {},
     "output_type": "execute_result"
    }
   ],
   "source": [
    "ruff_texts"
   ]
  },
  {
   "cell_type": "markdown",
   "id": "c0a6c031",
   "metadata": {},
   "source": [
    "## Create the Agent"
   ]
  },
  {
   "cell_type": "code",
   "execution_count": 59,
   "id": "eb142786",
   "metadata": {
    "tags": []
   },
   "outputs": [],
   "source": [
    "# Import things that are needed generically\n",
    "from langchain.agents import AgentType, Tool, initialize_agent"
   ]
  },
  {
   "cell_type": "code",
   "execution_count": 61,
   "id": "850bc4e9",
   "metadata": {
    "tags": []
   },
   "outputs": [],
   "source": [
    "tools = [\n",
    "    Tool(\n",
    "        name=\"State of Union QA System\",\n",
    "        func=state_of_union.invoke,\n",
    "        description=\"useful for when you need to answer questions about the most recent state of the union address. Input should be a fully formed question.\",\n",
    "    ),\n",
    "    Tool(\n",
    "        name=\"Ruff QA System\",\n",
    "        func=ruff.invoke,\n",
    "        description=\"useful for when you need to answer questions about ruff (a python linter). Input should be a fully formed question.\",\n",
    "    ),\n",
    "]"
   ]
  },
  {
   "cell_type": "code",
   "execution_count": 62,
   "id": "fc47f230",
   "metadata": {
    "tags": []
   },
   "outputs": [
    {
     "name": "stderr",
     "output_type": "stream",
     "text": [
      "C:\\Users\\Nath\\AppData\\Local\\Temp\\ipykernel_23256\\1834837320.py:3: LangChainDeprecationWarning: The function `initialize_agent` was deprecated in LangChain 0.1.0 and will be removed in 1.0. Use :meth:`~Use new agent constructor methods like create_react_agent, create_json_agent, create_structured_chat_agent, etc.` instead.\n",
      "  agent = initialize_agent(\n"
     ]
    }
   ],
   "source": [
    "# Construct the agent. We will use the default agent type here.\n",
    "# See documentation for a full list of options.\n",
    "agent = initialize_agent(\n",
    "    tools, llm, agent=AgentType.ZERO_SHOT_REACT_DESCRIPTION, verbose=True\n",
    ")"
   ]
  },
  {
   "cell_type": "code",
   "execution_count": 63,
   "id": "10ca2db8",
   "metadata": {
    "tags": []
   },
   "outputs": [
    {
     "name": "stdout",
     "output_type": "stream",
     "text": [
      "\n",
      "\n",
      "\u001b[1m> Entering new AgentExecutor chain...\u001b[0m\n",
      "\u001b[32;1m\u001b[1;3m I should use the State of Union QA System to answer this question.\n",
      "Action: State of Union QA System\n",
      "Action Input: \"What did Biden say about Ketanji Brown Jackson in the state of the union address?\"\u001b[0m\n",
      "Observation: \u001b[36;1m\u001b[1;3m{'query': 'What did Biden say about Ketanji Brown Jackson in the state of the union address?', 'result': \"\\nBiden said that he nominated Circuit Court of Appeals Judge Ketanji Brown Jackson to serve on the United States Supreme Court, and that she is one of the nation's top legal minds who will continue Justice Breyer's legacy of excellence.\"}\u001b[0m\n",
      "Thought:\u001b[32;1m\u001b[1;3m I now know the final answer.\n",
      "Final Answer: Biden said that he nominated Circuit Court of Appeals Judge Ketanji Brown Jackson to serve on the United States Supreme Court, and that she is one of the nation's top legal minds who will continue Justice Breyer's legacy of excellence.\u001b[0m\n",
      "\n",
      "\u001b[1m> Finished chain.\u001b[0m\n"
     ]
    },
    {
     "data": {
      "text/plain": [
       "{'input': 'What did biden say about ketanji brown jackson in the state of the union address?',\n",
       " 'output': \"Biden said that he nominated Circuit Court of Appeals Judge Ketanji Brown Jackson to serve on the United States Supreme Court, and that she is one of the nation's top legal minds who will continue Justice Breyer's legacy of excellence.\"}"
      ]
     },
     "execution_count": 63,
     "metadata": {},
     "output_type": "execute_result"
    }
   ],
   "source": [
    "agent.invoke(\n",
    "    \"What did biden say about ketanji brown jackson in the state of the union address?\"\n",
    ")"
   ]
  },
  {
   "cell_type": "code",
   "execution_count": 67,
   "id": "4e91b811",
   "metadata": {
    "tags": []
   },
   "outputs": [
    {
     "name": "stdout",
     "output_type": "stream",
     "text": [
      "\n",
      "\n",
      "\u001b[1m> Entering new AgentExecutor chain...\u001b[0m\n",
      "\u001b[32;1m\u001b[1;3m Ruff and flake8 are both python linters, so they have similar functions. However, there may be specific reasons why one is preferred over the other.\n",
      "Action: Ruff QA System\n",
      "Action Input: \"Why use ruff over flake8?\"\u001b[0m\n",
      "Observation: \u001b[33;1m\u001b[1;3m{'query': 'Why use ruff over flake8?', 'result': ' Ruff offers a larger rule set and can automatically fix its own lint violations, while also being able to be used as a formatter. It also supports linting for any Python version from 3.7 onwards, including Python 3.13. Additionally, Ruff does not require the installation of Rust, making it more accessible for users.'}\u001b[0m\n",
      "Thought:\u001b[32;1m\u001b[1;3m This information is helpful, but I should also check the State of Union QA System to see if there are any other reasons mentioned.\n",
      "Action: State of Union QA System\n",
      "Action Input: \"Why use ruff over flake8?\"\u001b[0m\n",
      "Observation: \u001b[36;1m\u001b[1;3m{'query': 'Why use ruff over flake8?', 'result': \" I don't know.\"}\u001b[0m\n",
      "Thought:\u001b[32;1m\u001b[1;3m It seems like the State of Union QA System does not have any information on this topic. I should stick with the Ruff QA System for now.\n",
      "Final Answer: Ruff offers a larger rule set, automatic fixing of lint violations, and support for multiple Python versions, making it a more comprehensive and accessible linter compared to flake8.\u001b[0m\n",
      "\n",
      "\u001b[1m> Finished chain.\u001b[0m\n"
     ]
    },
    {
     "data": {
      "text/plain": [
       "{'input': 'Why use ruff over flake8?',\n",
       " 'output': 'Ruff offers a larger rule set, automatic fixing of lint violations, and support for multiple Python versions, making it a more comprehensive and accessible linter compared to flake8.'}"
      ]
     },
     "execution_count": 67,
     "metadata": {},
     "output_type": "execute_result"
    }
   ],
   "source": [
    "agent.invoke(\"Why use ruff over flake8?\")"
   ]
  },
  {
   "cell_type": "markdown",
   "id": "787a9b5e",
   "metadata": {},
   "source": [
    "## Use the Agent solely as a router"
   ]
  },
  {
   "cell_type": "markdown",
   "id": "9161ba91",
   "metadata": {},
   "source": [
    "You can also set `return_direct=True` if you intend to use the agent as a router and just want to directly return the result of the RetrievalQAChain.\n",
    "\n",
    "Notice that in the above examples the agent did some extra work after querying the RetrievalQAChain. You can avoid that and just return the result directly."
   ]
  },
  {
   "cell_type": "code",
   "execution_count": 68,
   "id": "f59b377e",
   "metadata": {
    "tags": []
   },
   "outputs": [],
   "source": [
    "tools = [\n",
    "    Tool(\n",
    "        name=\"State of Union QA System\",\n",
    "        func=state_of_union.invoke,\n",
    "        description=\"useful for when you need to answer questions about the most recent state of the union address. Input should be a fully formed question.\",\n",
    "        return_direct=True,\n",
    "    ),\n",
    "    Tool(\n",
    "        name=\"Ruff QA System\",\n",
    "        func=ruff.run,\n",
    "        description=\"useful for when you need to answer questions about ruff (a python linter). Input should be a fully formed question.\",\n",
    "        return_direct=True,\n",
    "    ),\n",
    "]"
   ]
  },
  {
   "cell_type": "code",
   "execution_count": 69,
   "id": "8615707a",
   "metadata": {
    "tags": []
   },
   "outputs": [],
   "source": [
    "agent = initialize_agent(\n",
    "    tools, llm, agent=AgentType.ZERO_SHOT_REACT_DESCRIPTION, verbose=True\n",
    ")"
   ]
  },
  {
   "cell_type": "code",
   "execution_count": 70,
   "id": "36e718a9",
   "metadata": {
    "tags": []
   },
   "outputs": [
    {
     "name": "stdout",
     "output_type": "stream",
     "text": [
      "\n",
      "\n",
      "\u001b[1m> Entering new AgentExecutor chain...\u001b[0m\n",
      "\u001b[32;1m\u001b[1;3m I should use the State of Union QA System to answer this question.\n",
      "Action: State of Union QA System\n",
      "Action Input: \"What did Biden say about Ketanji Brown Jackson in the state of the union address?\"\u001b[0m\n",
      "Observation: \u001b[36;1m\u001b[1;3m\n",
      "Biden said that he nominated Circuit Court of Appeals Judge Ketanji Brown Jackson to serve on the United States Supreme Court, and that she is one of the nation's top legal minds who will continue Justice Breyer's legacy of excellence.\u001b[0m\n",
      "\u001b[32;1m\u001b[1;3m\u001b[0m\n",
      "\n",
      "\u001b[1m> Finished chain.\u001b[0m\n"
     ]
    },
    {
     "data": {
      "text/plain": [
       "{'input': 'What did biden say about ketanji brown jackson in the state of the union address?',\n",
       " 'output': \"\\nBiden said that he nominated Circuit Court of Appeals Judge Ketanji Brown Jackson to serve on the United States Supreme Court, and that she is one of the nation's top legal minds who will continue Justice Breyer's legacy of excellence.\"}"
      ]
     },
     "execution_count": 70,
     "metadata": {},
     "output_type": "execute_result"
    }
   ],
   "source": [
    "agent.invoke(\n",
    "    \"What did biden say about ketanji brown jackson in the state of the union address?\"\n",
    ")"
   ]
  },
  {
   "cell_type": "code",
   "execution_count": 71,
   "id": "edfd0a1a",
   "metadata": {
    "tags": []
   },
   "outputs": [
    {
     "name": "stdout",
     "output_type": "stream",
     "text": [
      "\n",
      "\n",
      "\u001b[1m> Entering new AgentExecutor chain...\u001b[0m\n",
      "\u001b[32;1m\u001b[1;3m Ruff and flake8 are both python linters, so they have similar functions. However, there may be specific reasons why one is preferred over the other.\n",
      "Action: Ruff QA System\n",
      "Action Input: \"Why use ruff over flake8?\"\u001b[0m\n",
      "Observation: \u001b[33;1m\u001b[1;3m Ruff offers a larger rule set and can automatically fix its own lint violations, while also being able to be used as a formatter. It also supports linting for any Python version from 3.7 onwards, including Python 3.13. Additionally, Ruff does not require the installation of Rust, making it more accessible for users.\u001b[0m\n",
      "\u001b[32;1m\u001b[1;3m\u001b[0m\n",
      "\n",
      "\u001b[1m> Finished chain.\u001b[0m\n"
     ]
    },
    {
     "data": {
      "text/plain": [
       "{'input': 'Why use ruff over flake8?',\n",
       " 'output': ' Ruff offers a larger rule set and can automatically fix its own lint violations, while also being able to be used as a formatter. It also supports linting for any Python version from 3.7 onwards, including Python 3.13. Additionally, Ruff does not require the installation of Rust, making it more accessible for users.'}"
      ]
     },
     "execution_count": 71,
     "metadata": {},
     "output_type": "execute_result"
    }
   ],
   "source": [
    "agent.invoke(\"Why use ruff over flake8?\")"
   ]
  },
  {
   "cell_type": "markdown",
   "id": "49a0cbbe",
   "metadata": {},
   "source": [
    "## Multi-Hop vector store reasoning\n",
    "\n",
    "Because vector stores are easily usable as tools in agents, it is easy to use answer multi-hop questions that depend on vector stores using the existing agent framework."
   ]
  },
  {
   "cell_type": "code",
   "execution_count": 73,
   "id": "d397a233",
   "metadata": {
    "tags": []
   },
   "outputs": [],
   "source": [
    "tools = [\n",
    "    Tool(\n",
    "        name=\"State of Union QA System\",\n",
    "        func=state_of_union.invoke,\n",
    "        description=\"useful for when you need to answer questions about the most recent state of the union address. Input should be a fully formed question, not referencing any obscure pronouns from the conversation before.\",\n",
    "    ),\n",
    "    Tool(\n",
    "        name=\"Ruff QA System\",\n",
    "        func=ruff.invoke,\n",
    "        description=\"useful for when you need to answer questions about ruff (a python linter). Input should be a fully formed question, not referencing any obscure pronouns from the conversation before.\",\n",
    "    ),\n",
    "]"
   ]
  },
  {
   "cell_type": "code",
   "execution_count": 74,
   "id": "06157240",
   "metadata": {
    "tags": []
   },
   "outputs": [],
   "source": [
    "# Construct the agent. We will use the default agent type here.\n",
    "# See documentation for a full list of options.\n",
    "agent = initialize_agent(\n",
    "    tools, llm, agent=AgentType.ZERO_SHOT_REACT_DESCRIPTION, verbose=True\n",
    ")"
   ]
  },
  {
   "cell_type": "code",
   "execution_count": 75,
   "id": "b492b520",
   "metadata": {
    "tags": []
   },
   "outputs": [
    {
     "name": "stdout",
     "output_type": "stream",
     "text": [
      "\n",
      "\n",
      "\u001b[1m> Entering new AgentExecutor chain...\u001b[0m\n",
      "\u001b[32;1m\u001b[1;3m I should use the Ruff QA System to answer this question since it is specifically about ruff and Jupyter Notebooks.\n",
      "Action: Ruff QA System\n",
      "Action Input: What tool does ruff use to run over Jupyter Notebooks?\u001b[0m\n",
      "Observation: \u001b[33;1m\u001b[1;3m{'query': 'What tool does ruff use to run over Jupyter Notebooks?', 'result': ' Ruff does not currently support Jupyter Notebooks.'}\u001b[0m\n",
      "Thought:\u001b[32;1m\u001b[1;3m Since Ruff does not currently support Jupyter Notebooks, I should use the State of Union QA System to check if the president mentioned it.\n",
      "Action: State of Union QA System\n",
      "Action Input: Did the president mention Jupyter Notebooks in the state of the union?\u001b[0m\n",
      "Observation: \u001b[36;1m\u001b[1;3m{'query': 'Did the president mention Jupyter Notebooks in the state of the union?', 'result': ' No, the president did not mention Jupyter Notebooks in the state of the union.'}\u001b[0m\n",
      "Thought:\u001b[32;1m\u001b[1;3m I now know the final answer.\n",
      "Final Answer: No, the president did not mention Jupyter Notebooks in the state of the union.\u001b[0m\n",
      "\n",
      "\u001b[1m> Finished chain.\u001b[0m\n"
     ]
    },
    {
     "data": {
      "text/plain": [
       "{'input': 'What tool does ruff use to run over Jupyter Notebooks? Did the president mention that tool in the state of the union?',\n",
       " 'output': 'No, the president did not mention Jupyter Notebooks in the state of the union.'}"
      ]
     },
     "execution_count": 75,
     "metadata": {},
     "output_type": "execute_result"
    }
   ],
   "source": [
    "agent.invoke(\n",
    "    \"What tool does ruff use to run over Jupyter Notebooks? Did the president mention that tool in the state of the union?\"\n",
    ")"
   ]
  },
  {
   "cell_type": "markdown",
   "id": "e1b97a98",
   "metadata": {},
   "source": [
    "## Let's try the same process with a different dataset\n",
    "\n",
    "Dataset:    [Romeo And Juliet](https://github.com/martin-gorner/tensorflow-rnn-shakespeare/blob/master/shakespeare/romeoandjuliet.txt)"
   ]
  },
  {
   "cell_type": "code",
   "execution_count": 81,
   "id": "1c3c25d2",
   "metadata": {},
   "outputs": [
    {
     "name": "stderr",
     "output_type": "stream",
     "text": [
      "Created a chunk of size 1018, which is longer than the specified 1000\n",
      "Created a chunk of size 1479, which is longer than the specified 1000\n",
      "Created a chunk of size 1901, which is longer than the specified 1000\n",
      "Created a chunk of size 1044, which is longer than the specified 1000\n",
      "Created a chunk of size 1015, which is longer than the specified 1000\n",
      "Created a chunk of size 1381, which is longer than the specified 1000\n",
      "Created a chunk of size 1082, which is longer than the specified 1000\n",
      "Created a chunk of size 1468, which is longer than the specified 1000\n",
      "Created a chunk of size 1415, which is longer than the specified 1000\n",
      "Created a chunk of size 2240, which is longer than the specified 1000\n",
      "Created a chunk of size 1430, which is longer than the specified 1000\n",
      "Created a chunk of size 1541, which is longer than the specified 1000\n",
      "Created a chunk of size 1006, which is longer than the specified 1000\n",
      "Created a chunk of size 1370, which is longer than the specified 1000\n",
      "Created a chunk of size 1785, which is longer than the specified 1000\n"
     ]
    }
   ],
   "source": [
    "# create llm\n",
    "llm = OpenAI(temperature=0)\n",
    "\n",
    "# load dataset\n",
    "doc_path = str(Path(*relevant_parts) / \"romeoandjuliet.txt\")\n",
    "\n",
    "# store dataset in documents\n",
    "loader = TextLoader(doc_path)\n",
    "documents = loader.load()\n",
    "text_splitter = CharacterTextSplitter(chunk_size=1000, chunk_overlap=0)\n",
    "texts = text_splitter.split_documents(documents)\n",
    "\n",
    "# store documents in chroma\n",
    "embeddings = OpenAIEmbeddings()\n",
    "docsearch = Chroma.from_documents(texts, embeddings, collection_name=\"romeo-and-juliet\")\n",
    "\n",
    "# create retriever\n",
    "romeo_and_juliet = RetrievalQA.from_chain_type(\n",
    "    llm=llm, chain_type=\"stuff\", retriever=docsearch.as_retriever()\n",
    ")\n",
    "\n",
    "# create a webloader with Shakespeare QnA\n",
    "loader = WebBaseLoader(\"https://parade.com/1206030/marynliles/shakespeare-trivia/\")\n",
    "\n",
    "# loading webpage contents into documents\n",
    "docs = loader.load()\n",
    "shakespeare_qna_texts = text_splitter.split_documents(docs)\n",
    "shakespeare_qna_db = Chroma.from_documents(shakespeare_qna_texts, embeddings, collection_name=\"shakespeare_qna\")\n",
    "shakespeare_qna = RetrievalQA.from_chain_type(\n",
    "    llm=llm,\n",
    "    chain_type=\"stuff\",\n",
    "    retriever=shakespeare_qna_db.as_retriever()\n",
    ")\n",
    "\n",
    "tools = [\n",
    "    Tool(\n",
    "        name=\"Romeo and Juliet\",\n",
    "        func=state_of_union.invoke,\n",
    "        description=\"useful for when you need to answer questions about Shakespeare's book Romeo and Juliet. Input should be a fully formed question.\",\n",
    "    ),\n",
    "    Tool(\n",
    "        name=\"Shakespeare QnA\",\n",
    "        func=ruff.invoke,\n",
    "        description=\"useful for when you need to answer questions about Shakespeare, his life and his work. Input should be a fully formed question.\",\n",
    "    ),\n",
    "]\n",
    "\n",
    "agent = initialize_agent(tools, llm, agent=AgentType.ZERO_SHOT_REACT_DESCRIPTION, verbose=True)\n"
   ]
  },
  {
   "cell_type": "code",
   "execution_count": 89,
   "id": "be3dd457",
   "metadata": {},
   "outputs": [
    {
     "name": "stdout",
     "output_type": "stream",
     "text": [
      "\n",
      "\n",
      "\u001b[1m> Entering new AgentExecutor chain...\u001b[0m\n",
      "\u001b[32;1m\u001b[1;3m I should use the Romeo and Juliet tool to find out where Romeo was exiled.\n",
      "Action: Romeo and Juliet\n",
      "Action Input: Where is Romeo exiled at the end of the book Romeo and Juliet?\u001b[0m\n",
      "Observation: \u001b[36;1m\u001b[1;3m{'query': 'Where is Romeo exiled at the end of the book Romeo and Juliet?', 'result': ' Romeo is exiled to Mantua at the end of the book Romeo and Juliet.'}\u001b[0m\n",
      "Thought:\u001b[32;1m\u001b[1;3m Now I need to find out if Shakespeare was buried in Mantua.\n",
      "Action: Shakespeare QnA\n",
      "Action Input: Was Shakespeare buried in Mantua?\u001b[0m\n",
      "Observation: \u001b[33;1m\u001b[1;3m{'query': 'Was Shakespeare buried in Mantua?', 'result': ' No, Shakespeare was buried in Stratford-upon-Avon.'}\u001b[0m\n",
      "Thought:\u001b[32;1m\u001b[1;3m I now know the final answer.\n",
      "Final Answer: No, Shakespeare was not buried in Mantua.\u001b[0m\n",
      "\n",
      "\u001b[1m> Finished chain.\u001b[0m\n"
     ]
    },
    {
     "data": {
      "text/plain": [
       "{'input': 'Where is Romeo exiled at the end of the book Romeo and Juliet? Was Shakespeare burried in this town?',\n",
       " 'output': 'No, Shakespeare was not buried in Mantua.'}"
      ]
     },
     "execution_count": 89,
     "metadata": {},
     "output_type": "execute_result"
    }
   ],
   "source": [
    "question = \"Where is Romeo exiled at the end of the book Romeo and Juliet? Was Shakespeare burried in this town?\"\n",
    "agent.invoke(question)"
   ]
  }
 ],
 "metadata": {
  "kernelspec": {
   "display_name": "ironhack",
   "language": "python",
   "name": "python3"
  },
  "language_info": {
   "codemirror_mode": {
    "name": "ipython",
    "version": 3
   },
   "file_extension": ".py",
   "mimetype": "text/x-python",
   "name": "python",
   "nbconvert_exporter": "python",
   "pygments_lexer": "ipython3",
   "version": "3.12.7"
  }
 },
 "nbformat": 4,
 "nbformat_minor": 5
}
